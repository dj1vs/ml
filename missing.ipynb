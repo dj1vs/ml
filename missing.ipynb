{
 "cells": [
  {
   "cell_type": "markdown",
   "metadata": {},
   "source": [
    "### Обработка пропусков в данных, кодирование категориальных признаков, масштабирование данных"
   ]
  },
  {
   "cell_type": "code",
   "execution_count": 30,
   "metadata": {},
   "outputs": [],
   "source": [
    "import numpy as np\n",
    "import pandas as pd\n",
    "import seaborn as sns\n",
    "import matplotlib.pyplot as plt\n",
    "%matplotlib inline \n",
    "sns.set(style=\"ticks\")"
   ]
  },
  {
   "cell_type": "markdown",
   "metadata": {},
   "source": [
    "Загрузка и первичный анализ данных"
   ]
  },
  {
   "cell_type": "code",
   "execution_count": 31,
   "metadata": {},
   "outputs": [],
   "source": [
    "df = pd.read_csv('GM_players_statistics.csv')"
   ]
  },
  {
   "cell_type": "code",
   "execution_count": 32,
   "metadata": {},
   "outputs": [
    {
     "data": {
      "text/plain": [
       "(1508, 35)"
      ]
     },
     "execution_count": 32,
     "metadata": {},
     "output_type": "execute_result"
    }
   ],
   "source": [
    "df.shape"
   ]
  },
  {
   "cell_type": "code",
   "execution_count": 33,
   "metadata": {},
   "outputs": [
    {
     "data": {
      "text/plain": [
       "Unnamed: 0                     int64\n",
       "name                          object\n",
       "username                      object\n",
       "profile                       object\n",
       "user_id                        int64\n",
       "title                         object\n",
       "fide                         float64\n",
       "country                       object\n",
       "followers                      int64\n",
       "joined                        object\n",
       "last_online                   object\n",
       "current_rapid_rating         float64\n",
       "highest_rapid_rating         float64\n",
       "highest_rapid_date            object\n",
       "rapid_win                    float64\n",
       "rapid_draw                   float64\n",
       "rapid_loss                   float64\n",
       "current_blitz_rating         float64\n",
       "highest_blitz_rating         float64\n",
       "highest_blitz_date            object\n",
       "blitz_win                    float64\n",
       "blitz_draw                   float64\n",
       "blitz_loss                   float64\n",
       "current_bullet_rating        float64\n",
       "highest_bullet_rating        float64\n",
       "highest_bullet_date           object\n",
       "bullet_win                   float64\n",
       "bullet_draw                  float64\n",
       "bullet_loss                  float64\n",
       "highest_tactics_rating         int64\n",
       "highest_tactics_date          object\n",
       "highest_puzzle_rush_score    float64\n",
       "is_streamer                     bool\n",
       "status                        object\n",
       "league                        object\n",
       "dtype: object"
      ]
     },
     "execution_count": 33,
     "metadata": {},
     "output_type": "execute_result"
    }
   ],
   "source": [
    "df.dtypes"
   ]
  },
  {
   "cell_type": "code",
   "execution_count": 34,
   "metadata": {},
   "outputs": [
    {
     "data": {
      "text/plain": [
       "Unnamed: 0                     0\n",
       "name                         267\n",
       "username                       0\n",
       "profile                        0\n",
       "user_id                        0\n",
       "title                          0\n",
       "fide                         595\n",
       "country                        0\n",
       "followers                      0\n",
       "joined                         0\n",
       "last_online                    0\n",
       "current_rapid_rating         453\n",
       "highest_rapid_rating         511\n",
       "highest_rapid_date           511\n",
       "rapid_win                    453\n",
       "rapid_draw                   453\n",
       "rapid_loss                   453\n",
       "current_blitz_rating         120\n",
       "highest_blitz_rating         126\n",
       "highest_blitz_date           126\n",
       "blitz_win                    120\n",
       "blitz_draw                   120\n",
       "blitz_loss                   120\n",
       "current_bullet_rating        335\n",
       "highest_bullet_rating        364\n",
       "highest_bullet_date          364\n",
       "bullet_win                   335\n",
       "bullet_draw                  335\n",
       "bullet_loss                  335\n",
       "highest_tactics_rating         0\n",
       "highest_tactics_date           0\n",
       "highest_puzzle_rush_score    387\n",
       "is_streamer                    0\n",
       "status                         0\n",
       "league                       380\n",
       "dtype: int64"
      ]
     },
     "execution_count": 34,
     "metadata": {},
     "output_type": "execute_result"
    }
   ],
   "source": [
    "df.isnull().sum()"
   ]
  },
  {
   "cell_type": "code",
   "execution_count": 35,
   "metadata": {},
   "outputs": [
    {
     "data": {
      "text/html": [
       "<div>\n",
       "<style scoped>\n",
       "    .dataframe tbody tr th:only-of-type {\n",
       "        vertical-align: middle;\n",
       "    }\n",
       "\n",
       "    .dataframe tbody tr th {\n",
       "        vertical-align: top;\n",
       "    }\n",
       "\n",
       "    .dataframe thead th {\n",
       "        text-align: right;\n",
       "    }\n",
       "</style>\n",
       "<table border=\"1\" class=\"dataframe\">\n",
       "  <thead>\n",
       "    <tr style=\"text-align: right;\">\n",
       "      <th></th>\n",
       "      <th>Unnamed: 0</th>\n",
       "      <th>name</th>\n",
       "      <th>username</th>\n",
       "      <th>profile</th>\n",
       "      <th>user_id</th>\n",
       "      <th>title</th>\n",
       "      <th>fide</th>\n",
       "      <th>country</th>\n",
       "      <th>followers</th>\n",
       "      <th>joined</th>\n",
       "      <th>...</th>\n",
       "      <th>highest_bullet_date</th>\n",
       "      <th>bullet_win</th>\n",
       "      <th>bullet_draw</th>\n",
       "      <th>bullet_loss</th>\n",
       "      <th>highest_tactics_rating</th>\n",
       "      <th>highest_tactics_date</th>\n",
       "      <th>highest_puzzle_rush_score</th>\n",
       "      <th>is_streamer</th>\n",
       "      <th>status</th>\n",
       "      <th>league</th>\n",
       "    </tr>\n",
       "  </thead>\n",
       "  <tbody>\n",
       "    <tr>\n",
       "      <th>0</th>\n",
       "      <td>0</td>\n",
       "      <td>Komodo Engine</td>\n",
       "      <td>komodochess</td>\n",
       "      <td>https://www.chess.com/member/KomodoChess</td>\n",
       "      <td>24944922</td>\n",
       "      <td>GM</td>\n",
       "      <td>3411.0</td>\n",
       "      <td>United States</td>\n",
       "      <td>494</td>\n",
       "      <td>07/11/2015</td>\n",
       "      <td>...</td>\n",
       "      <td>NaN</td>\n",
       "      <td>NaN</td>\n",
       "      <td>NaN</td>\n",
       "      <td>NaN</td>\n",
       "      <td>400</td>\n",
       "      <td>07/11/2015</td>\n",
       "      <td>NaN</td>\n",
       "      <td>False</td>\n",
       "      <td>premium</td>\n",
       "      <td>NaN</td>\n",
       "    </tr>\n",
       "    <tr>\n",
       "      <th>1</th>\n",
       "      <td>1</td>\n",
       "      <td>Vojtěch Plát</td>\n",
       "      <td>vojtechplat</td>\n",
       "      <td>https://www.chess.com/member/VojtechPlat</td>\n",
       "      <td>37712368</td>\n",
       "      <td>GM</td>\n",
       "      <td>2950.0</td>\n",
       "      <td>Czech Republic</td>\n",
       "      <td>360</td>\n",
       "      <td>11/08/2017</td>\n",
       "      <td>...</td>\n",
       "      <td>27/09/2021</td>\n",
       "      <td>32.0</td>\n",
       "      <td>8.0</td>\n",
       "      <td>47.0</td>\n",
       "      <td>3251</td>\n",
       "      <td>15/09/2021</td>\n",
       "      <td>49.0</td>\n",
       "      <td>False</td>\n",
       "      <td>premium</td>\n",
       "      <td>Bronze</td>\n",
       "    </tr>\n",
       "    <tr>\n",
       "      <th>2</th>\n",
       "      <td>2</td>\n",
       "      <td>PlayMagnus Carlsen</td>\n",
       "      <td>playmagnus</td>\n",
       "      <td>https://www.chess.com/member/PlayMagnus</td>\n",
       "      <td>19578862</td>\n",
       "      <td>GM</td>\n",
       "      <td>2882.0</td>\n",
       "      <td>Norway</td>\n",
       "      <td>199</td>\n",
       "      <td>05/11/2014</td>\n",
       "      <td>...</td>\n",
       "      <td>NaN</td>\n",
       "      <td>NaN</td>\n",
       "      <td>NaN</td>\n",
       "      <td>NaN</td>\n",
       "      <td>400</td>\n",
       "      <td>05/11/2014</td>\n",
       "      <td>NaN</td>\n",
       "      <td>False</td>\n",
       "      <td>premium</td>\n",
       "      <td>NaN</td>\n",
       "    </tr>\n",
       "    <tr>\n",
       "      <th>3</th>\n",
       "      <td>3</td>\n",
       "      <td>Magnus Carlsen</td>\n",
       "      <td>magnuscarlsen</td>\n",
       "      <td>https://www.chess.com/member/MagnusCarlsen</td>\n",
       "      <td>3889224</td>\n",
       "      <td>GM</td>\n",
       "      <td>2882.0</td>\n",
       "      <td>Norway</td>\n",
       "      <td>142482</td>\n",
       "      <td>27/08/2010</td>\n",
       "      <td>...</td>\n",
       "      <td>28/03/2023</td>\n",
       "      <td>662.0</td>\n",
       "      <td>98.0</td>\n",
       "      <td>246.0</td>\n",
       "      <td>400</td>\n",
       "      <td>27/08/2010</td>\n",
       "      <td>NaN</td>\n",
       "      <td>False</td>\n",
       "      <td>premium</td>\n",
       "      <td>Elite</td>\n",
       "    </tr>\n",
       "    <tr>\n",
       "      <th>4</th>\n",
       "      <td>4</td>\n",
       "      <td>Fabiano Caruana</td>\n",
       "      <td>fabianocaruana</td>\n",
       "      <td>https://www.chess.com/member/FabianoCaruana</td>\n",
       "      <td>11177810</td>\n",
       "      <td>GM</td>\n",
       "      <td>2835.0</td>\n",
       "      <td>United States</td>\n",
       "      <td>14445</td>\n",
       "      <td>17/03/2013</td>\n",
       "      <td>...</td>\n",
       "      <td>30/11/2021</td>\n",
       "      <td>713.0</td>\n",
       "      <td>65.0</td>\n",
       "      <td>203.0</td>\n",
       "      <td>3519</td>\n",
       "      <td>14/06/2023</td>\n",
       "      <td>64.0</td>\n",
       "      <td>False</td>\n",
       "      <td>premium</td>\n",
       "      <td>Crystal</td>\n",
       "    </tr>\n",
       "  </tbody>\n",
       "</table>\n",
       "<p>5 rows × 35 columns</p>\n",
       "</div>"
      ],
      "text/plain": [
       "   Unnamed: 0                name        username  \\\n",
       "0           0       Komodo Engine     komodochess   \n",
       "1           1        Vojtěch Plát     vojtechplat   \n",
       "2           2  PlayMagnus Carlsen      playmagnus   \n",
       "3           3      Magnus Carlsen   magnuscarlsen   \n",
       "4           4     Fabiano Caruana  fabianocaruana   \n",
       "\n",
       "                                       profile   user_id title    fide  \\\n",
       "0     https://www.chess.com/member/KomodoChess  24944922    GM  3411.0   \n",
       "1     https://www.chess.com/member/VojtechPlat  37712368    GM  2950.0   \n",
       "2      https://www.chess.com/member/PlayMagnus  19578862    GM  2882.0   \n",
       "3   https://www.chess.com/member/MagnusCarlsen   3889224    GM  2882.0   \n",
       "4  https://www.chess.com/member/FabianoCaruana  11177810    GM  2835.0   \n",
       "\n",
       "          country  followers      joined  ... highest_bullet_date  bullet_win  \\\n",
       "0   United States        494  07/11/2015  ...                 NaN         NaN   \n",
       "1  Czech Republic        360  11/08/2017  ...          27/09/2021        32.0   \n",
       "2          Norway        199  05/11/2014  ...                 NaN         NaN   \n",
       "3          Norway     142482  27/08/2010  ...          28/03/2023       662.0   \n",
       "4   United States      14445  17/03/2013  ...          30/11/2021       713.0   \n",
       "\n",
       "   bullet_draw bullet_loss  highest_tactics_rating  highest_tactics_date  \\\n",
       "0          NaN         NaN                     400            07/11/2015   \n",
       "1          8.0        47.0                    3251            15/09/2021   \n",
       "2          NaN         NaN                     400            05/11/2014   \n",
       "3         98.0       246.0                     400            27/08/2010   \n",
       "4         65.0       203.0                    3519            14/06/2023   \n",
       "\n",
       "   highest_puzzle_rush_score  is_streamer   status   league  \n",
       "0                        NaN        False  premium      NaN  \n",
       "1                       49.0        False  premium   Bronze  \n",
       "2                        NaN        False  premium      NaN  \n",
       "3                        NaN        False  premium    Elite  \n",
       "4                       64.0        False  premium  Crystal  \n",
       "\n",
       "[5 rows x 35 columns]"
      ]
     },
     "execution_count": 35,
     "metadata": {},
     "output_type": "execute_result"
    }
   ],
   "source": [
    "df.head()"
   ]
  },
  {
   "cell_type": "code",
   "execution_count": 36,
   "metadata": {},
   "outputs": [
    {
     "name": "stdout",
     "output_type": "stream",
     "text": [
      "Всего строк: 1508\n"
     ]
    }
   ],
   "source": [
    "total_count = df.shape[0]\n",
    "print('Всего строк: {}'.format(total_count))"
   ]
  },
  {
   "cell_type": "markdown",
   "metadata": {},
   "source": [
    "## Обработка пропусков в данных\n",
    "\n",
    "##### Простые стратегии - удаление или заполенение нулями"
   ]
  },
  {
   "cell_type": "code",
   "execution_count": 37,
   "metadata": {},
   "outputs": [
    {
     "data": {
      "text/plain": [
       "((1508, 35), (1508, 13))"
      ]
     },
     "execution_count": 37,
     "metadata": {},
     "output_type": "execute_result"
    }
   ],
   "source": [
    "df_new_1 = df.dropna(axis=1, how='any')\n",
    "(df.shape, df_new_1.shape)"
   ]
  },
  {
   "cell_type": "code",
   "execution_count": 38,
   "metadata": {},
   "outputs": [
    {
     "data": {
      "text/plain": [
       "((1508, 35), (433, 35))"
      ]
     },
     "execution_count": 38,
     "metadata": {},
     "output_type": "execute_result"
    }
   ],
   "source": [
    "df_new_2 = df.dropna(axis=0, how='any')\n",
    "(df.shape, df_new_2.shape)"
   ]
  },
  {
   "cell_type": "code",
   "execution_count": 39,
   "metadata": {},
   "outputs": [
    {
     "data": {
      "text/html": [
       "<div>\n",
       "<style scoped>\n",
       "    .dataframe tbody tr th:only-of-type {\n",
       "        vertical-align: middle;\n",
       "    }\n",
       "\n",
       "    .dataframe tbody tr th {\n",
       "        vertical-align: top;\n",
       "    }\n",
       "\n",
       "    .dataframe thead th {\n",
       "        text-align: right;\n",
       "    }\n",
       "</style>\n",
       "<table border=\"1\" class=\"dataframe\">\n",
       "  <thead>\n",
       "    <tr style=\"text-align: right;\">\n",
       "      <th></th>\n",
       "      <th>Unnamed: 0</th>\n",
       "      <th>name</th>\n",
       "      <th>username</th>\n",
       "      <th>profile</th>\n",
       "      <th>user_id</th>\n",
       "      <th>title</th>\n",
       "      <th>fide</th>\n",
       "      <th>country</th>\n",
       "      <th>followers</th>\n",
       "      <th>joined</th>\n",
       "      <th>...</th>\n",
       "      <th>highest_bullet_date</th>\n",
       "      <th>bullet_win</th>\n",
       "      <th>bullet_draw</th>\n",
       "      <th>bullet_loss</th>\n",
       "      <th>highest_tactics_rating</th>\n",
       "      <th>highest_tactics_date</th>\n",
       "      <th>highest_puzzle_rush_score</th>\n",
       "      <th>is_streamer</th>\n",
       "      <th>status</th>\n",
       "      <th>league</th>\n",
       "    </tr>\n",
       "  </thead>\n",
       "  <tbody>\n",
       "    <tr>\n",
       "      <th>0</th>\n",
       "      <td>0</td>\n",
       "      <td>Komodo Engine</td>\n",
       "      <td>komodochess</td>\n",
       "      <td>https://www.chess.com/member/KomodoChess</td>\n",
       "      <td>24944922</td>\n",
       "      <td>GM</td>\n",
       "      <td>3411.0</td>\n",
       "      <td>United States</td>\n",
       "      <td>494</td>\n",
       "      <td>07/11/2015</td>\n",
       "      <td>...</td>\n",
       "      <td>0</td>\n",
       "      <td>0.0</td>\n",
       "      <td>0.0</td>\n",
       "      <td>0.0</td>\n",
       "      <td>400</td>\n",
       "      <td>07/11/2015</td>\n",
       "      <td>0.0</td>\n",
       "      <td>False</td>\n",
       "      <td>premium</td>\n",
       "      <td>0</td>\n",
       "    </tr>\n",
       "    <tr>\n",
       "      <th>1</th>\n",
       "      <td>1</td>\n",
       "      <td>Vojtěch Plát</td>\n",
       "      <td>vojtechplat</td>\n",
       "      <td>https://www.chess.com/member/VojtechPlat</td>\n",
       "      <td>37712368</td>\n",
       "      <td>GM</td>\n",
       "      <td>2950.0</td>\n",
       "      <td>Czech Republic</td>\n",
       "      <td>360</td>\n",
       "      <td>11/08/2017</td>\n",
       "      <td>...</td>\n",
       "      <td>27/09/2021</td>\n",
       "      <td>32.0</td>\n",
       "      <td>8.0</td>\n",
       "      <td>47.0</td>\n",
       "      <td>3251</td>\n",
       "      <td>15/09/2021</td>\n",
       "      <td>49.0</td>\n",
       "      <td>False</td>\n",
       "      <td>premium</td>\n",
       "      <td>Bronze</td>\n",
       "    </tr>\n",
       "    <tr>\n",
       "      <th>2</th>\n",
       "      <td>2</td>\n",
       "      <td>PlayMagnus Carlsen</td>\n",
       "      <td>playmagnus</td>\n",
       "      <td>https://www.chess.com/member/PlayMagnus</td>\n",
       "      <td>19578862</td>\n",
       "      <td>GM</td>\n",
       "      <td>2882.0</td>\n",
       "      <td>Norway</td>\n",
       "      <td>199</td>\n",
       "      <td>05/11/2014</td>\n",
       "      <td>...</td>\n",
       "      <td>0</td>\n",
       "      <td>0.0</td>\n",
       "      <td>0.0</td>\n",
       "      <td>0.0</td>\n",
       "      <td>400</td>\n",
       "      <td>05/11/2014</td>\n",
       "      <td>0.0</td>\n",
       "      <td>False</td>\n",
       "      <td>premium</td>\n",
       "      <td>0</td>\n",
       "    </tr>\n",
       "    <tr>\n",
       "      <th>3</th>\n",
       "      <td>3</td>\n",
       "      <td>Magnus Carlsen</td>\n",
       "      <td>magnuscarlsen</td>\n",
       "      <td>https://www.chess.com/member/MagnusCarlsen</td>\n",
       "      <td>3889224</td>\n",
       "      <td>GM</td>\n",
       "      <td>2882.0</td>\n",
       "      <td>Norway</td>\n",
       "      <td>142482</td>\n",
       "      <td>27/08/2010</td>\n",
       "      <td>...</td>\n",
       "      <td>28/03/2023</td>\n",
       "      <td>662.0</td>\n",
       "      <td>98.0</td>\n",
       "      <td>246.0</td>\n",
       "      <td>400</td>\n",
       "      <td>27/08/2010</td>\n",
       "      <td>0.0</td>\n",
       "      <td>False</td>\n",
       "      <td>premium</td>\n",
       "      <td>Elite</td>\n",
       "    </tr>\n",
       "    <tr>\n",
       "      <th>4</th>\n",
       "      <td>4</td>\n",
       "      <td>Fabiano Caruana</td>\n",
       "      <td>fabianocaruana</td>\n",
       "      <td>https://www.chess.com/member/FabianoCaruana</td>\n",
       "      <td>11177810</td>\n",
       "      <td>GM</td>\n",
       "      <td>2835.0</td>\n",
       "      <td>United States</td>\n",
       "      <td>14445</td>\n",
       "      <td>17/03/2013</td>\n",
       "      <td>...</td>\n",
       "      <td>30/11/2021</td>\n",
       "      <td>713.0</td>\n",
       "      <td>65.0</td>\n",
       "      <td>203.0</td>\n",
       "      <td>3519</td>\n",
       "      <td>14/06/2023</td>\n",
       "      <td>64.0</td>\n",
       "      <td>False</td>\n",
       "      <td>premium</td>\n",
       "      <td>Crystal</td>\n",
       "    </tr>\n",
       "  </tbody>\n",
       "</table>\n",
       "<p>5 rows × 35 columns</p>\n",
       "</div>"
      ],
      "text/plain": [
       "   Unnamed: 0                name        username  \\\n",
       "0           0       Komodo Engine     komodochess   \n",
       "1           1        Vojtěch Plát     vojtechplat   \n",
       "2           2  PlayMagnus Carlsen      playmagnus   \n",
       "3           3      Magnus Carlsen   magnuscarlsen   \n",
       "4           4     Fabiano Caruana  fabianocaruana   \n",
       "\n",
       "                                       profile   user_id title    fide  \\\n",
       "0     https://www.chess.com/member/KomodoChess  24944922    GM  3411.0   \n",
       "1     https://www.chess.com/member/VojtechPlat  37712368    GM  2950.0   \n",
       "2      https://www.chess.com/member/PlayMagnus  19578862    GM  2882.0   \n",
       "3   https://www.chess.com/member/MagnusCarlsen   3889224    GM  2882.0   \n",
       "4  https://www.chess.com/member/FabianoCaruana  11177810    GM  2835.0   \n",
       "\n",
       "          country  followers      joined  ... highest_bullet_date  bullet_win  \\\n",
       "0   United States        494  07/11/2015  ...                   0         0.0   \n",
       "1  Czech Republic        360  11/08/2017  ...          27/09/2021        32.0   \n",
       "2          Norway        199  05/11/2014  ...                   0         0.0   \n",
       "3          Norway     142482  27/08/2010  ...          28/03/2023       662.0   \n",
       "4   United States      14445  17/03/2013  ...          30/11/2021       713.0   \n",
       "\n",
       "   bullet_draw bullet_loss  highest_tactics_rating  highest_tactics_date  \\\n",
       "0          0.0         0.0                     400            07/11/2015   \n",
       "1          8.0        47.0                    3251            15/09/2021   \n",
       "2          0.0         0.0                     400            05/11/2014   \n",
       "3         98.0       246.0                     400            27/08/2010   \n",
       "4         65.0       203.0                    3519            14/06/2023   \n",
       "\n",
       "   highest_puzzle_rush_score  is_streamer   status   league  \n",
       "0                        0.0        False  premium        0  \n",
       "1                       49.0        False  premium   Bronze  \n",
       "2                        0.0        False  premium        0  \n",
       "3                        0.0        False  premium    Elite  \n",
       "4                       64.0        False  premium  Crystal  \n",
       "\n",
       "[5 rows x 35 columns]"
      ]
     },
     "execution_count": 39,
     "metadata": {},
     "output_type": "execute_result"
    }
   ],
   "source": [
    "df_new_3 = df.fillna(0)\n",
    "df_new_3.head()"
   ]
  },
  {
   "cell_type": "markdown",
   "metadata": {},
   "source": [
    "##### Imputation"
   ]
  },
  {
   "cell_type": "code",
   "execution_count": 40,
   "metadata": {},
   "outputs": [
    {
     "name": "stdout",
     "output_type": "stream",
     "text": [
      "Колонка fide. Тип данных float64. Количество пустых значений 595, 39.46%.\n",
      "Колонка current_rapid_rating. Тип данных float64. Количество пустых значений 453, 30.04%.\n",
      "Колонка highest_rapid_rating. Тип данных float64. Количество пустых значений 511, 33.89%.\n",
      "Колонка rapid_win. Тип данных float64. Количество пустых значений 453, 30.04%.\n",
      "Колонка rapid_draw. Тип данных float64. Количество пустых значений 453, 30.04%.\n",
      "Колонка rapid_loss. Тип данных float64. Количество пустых значений 453, 30.04%.\n",
      "Колонка current_blitz_rating. Тип данных float64. Количество пустых значений 120, 7.96%.\n",
      "Колонка highest_blitz_rating. Тип данных float64. Количество пустых значений 126, 8.36%.\n",
      "Колонка blitz_win. Тип данных float64. Количество пустых значений 120, 7.96%.\n",
      "Колонка blitz_draw. Тип данных float64. Количество пустых значений 120, 7.96%.\n",
      "Колонка blitz_loss. Тип данных float64. Количество пустых значений 120, 7.96%.\n",
      "Колонка current_bullet_rating. Тип данных float64. Количество пустых значений 335, 22.21%.\n",
      "Колонка highest_bullet_rating. Тип данных float64. Количество пустых значений 364, 24.14%.\n",
      "Колонка bullet_win. Тип данных float64. Количество пустых значений 335, 22.21%.\n",
      "Колонка bullet_draw. Тип данных float64. Количество пустых значений 335, 22.21%.\n",
      "Колонка bullet_loss. Тип данных float64. Количество пустых значений 335, 22.21%.\n",
      "Колонка highest_puzzle_rush_score. Тип данных float64. Количество пустых значений 387, 25.66%.\n"
     ]
    }
   ],
   "source": [
    "# Выберем числовые колонки с пропущенными значениями\n",
    "# Цикл по колонкам датасета\n",
    "num_cols = []\n",
    "for col in df.columns:\n",
    "    # Количество пустых значений \n",
    "    temp_null_count = df[df[col].isnull()].shape[0]\n",
    "    dt = str(df[col].dtype)\n",
    "    if temp_null_count>0 and (dt=='float64' or dt=='int64'):\n",
    "        num_cols.append(col)\n",
    "        temp_perc = round((temp_null_count / total_count) * 100.0, 2)\n",
    "        print('Колонка {}. Тип данных {}. Количество пустых значений {}, {}%.'.format(col, dt, temp_null_count, temp_perc))"
   ]
  },
  {
   "cell_type": "code",
   "execution_count": 41,
   "metadata": {},
   "outputs": [
    {
     "data": {
      "text/html": [
       "<div>\n",
       "<style scoped>\n",
       "    .dataframe tbody tr th:only-of-type {\n",
       "        vertical-align: middle;\n",
       "    }\n",
       "\n",
       "    .dataframe tbody tr th {\n",
       "        vertical-align: top;\n",
       "    }\n",
       "\n",
       "    .dataframe thead th {\n",
       "        text-align: right;\n",
       "    }\n",
       "</style>\n",
       "<table border=\"1\" class=\"dataframe\">\n",
       "  <thead>\n",
       "    <tr style=\"text-align: right;\">\n",
       "      <th></th>\n",
       "      <th>fide</th>\n",
       "      <th>current_rapid_rating</th>\n",
       "      <th>highest_rapid_rating</th>\n",
       "      <th>rapid_win</th>\n",
       "      <th>rapid_draw</th>\n",
       "      <th>rapid_loss</th>\n",
       "      <th>current_blitz_rating</th>\n",
       "      <th>highest_blitz_rating</th>\n",
       "      <th>blitz_win</th>\n",
       "      <th>blitz_draw</th>\n",
       "      <th>blitz_loss</th>\n",
       "      <th>current_bullet_rating</th>\n",
       "      <th>highest_bullet_rating</th>\n",
       "      <th>bullet_win</th>\n",
       "      <th>bullet_draw</th>\n",
       "      <th>bullet_loss</th>\n",
       "      <th>highest_puzzle_rush_score</th>\n",
       "    </tr>\n",
       "  </thead>\n",
       "  <tbody>\n",
       "    <tr>\n",
       "      <th>0</th>\n",
       "      <td>3411.0</td>\n",
       "      <td>NaN</td>\n",
       "      <td>NaN</td>\n",
       "      <td>NaN</td>\n",
       "      <td>NaN</td>\n",
       "      <td>NaN</td>\n",
       "      <td>NaN</td>\n",
       "      <td>NaN</td>\n",
       "      <td>NaN</td>\n",
       "      <td>NaN</td>\n",
       "      <td>NaN</td>\n",
       "      <td>NaN</td>\n",
       "      <td>NaN</td>\n",
       "      <td>NaN</td>\n",
       "      <td>NaN</td>\n",
       "      <td>NaN</td>\n",
       "      <td>NaN</td>\n",
       "    </tr>\n",
       "    <tr>\n",
       "      <th>1</th>\n",
       "      <td>2950.0</td>\n",
       "      <td>2383.0</td>\n",
       "      <td>2672.0</td>\n",
       "      <td>12.0</td>\n",
       "      <td>5.0</td>\n",
       "      <td>6.0</td>\n",
       "      <td>2823.0</td>\n",
       "      <td>2914.0</td>\n",
       "      <td>976.0</td>\n",
       "      <td>280.0</td>\n",
       "      <td>847.0</td>\n",
       "      <td>2661.0</td>\n",
       "      <td>2750.0</td>\n",
       "      <td>32.0</td>\n",
       "      <td>8.0</td>\n",
       "      <td>47.0</td>\n",
       "      <td>49.0</td>\n",
       "    </tr>\n",
       "    <tr>\n",
       "      <th>2</th>\n",
       "      <td>2882.0</td>\n",
       "      <td>NaN</td>\n",
       "      <td>NaN</td>\n",
       "      <td>NaN</td>\n",
       "      <td>NaN</td>\n",
       "      <td>NaN</td>\n",
       "      <td>NaN</td>\n",
       "      <td>NaN</td>\n",
       "      <td>NaN</td>\n",
       "      <td>NaN</td>\n",
       "      <td>NaN</td>\n",
       "      <td>NaN</td>\n",
       "      <td>NaN</td>\n",
       "      <td>NaN</td>\n",
       "      <td>NaN</td>\n",
       "      <td>NaN</td>\n",
       "      <td>NaN</td>\n",
       "    </tr>\n",
       "    <tr>\n",
       "      <th>3</th>\n",
       "      <td>2882.0</td>\n",
       "      <td>2925.0</td>\n",
       "      <td>2977.0</td>\n",
       "      <td>43.0</td>\n",
       "      <td>23.0</td>\n",
       "      <td>8.0</td>\n",
       "      <td>3287.0</td>\n",
       "      <td>3322.0</td>\n",
       "      <td>1402.0</td>\n",
       "      <td>292.0</td>\n",
       "      <td>334.0</td>\n",
       "      <td>3249.0</td>\n",
       "      <td>3390.0</td>\n",
       "      <td>662.0</td>\n",
       "      <td>98.0</td>\n",
       "      <td>246.0</td>\n",
       "      <td>NaN</td>\n",
       "    </tr>\n",
       "    <tr>\n",
       "      <th>4</th>\n",
       "      <td>2835.0</td>\n",
       "      <td>2794.0</td>\n",
       "      <td>3045.0</td>\n",
       "      <td>122.0</td>\n",
       "      <td>103.0</td>\n",
       "      <td>46.0</td>\n",
       "      <td>3125.0</td>\n",
       "      <td>3136.0</td>\n",
       "      <td>1012.0</td>\n",
       "      <td>194.0</td>\n",
       "      <td>322.0</td>\n",
       "      <td>3030.0</td>\n",
       "      <td>3113.0</td>\n",
       "      <td>713.0</td>\n",
       "      <td>65.0</td>\n",
       "      <td>203.0</td>\n",
       "      <td>64.0</td>\n",
       "    </tr>\n",
       "    <tr>\n",
       "      <th>...</th>\n",
       "      <td>...</td>\n",
       "      <td>...</td>\n",
       "      <td>...</td>\n",
       "      <td>...</td>\n",
       "      <td>...</td>\n",
       "      <td>...</td>\n",
       "      <td>...</td>\n",
       "      <td>...</td>\n",
       "      <td>...</td>\n",
       "      <td>...</td>\n",
       "      <td>...</td>\n",
       "      <td>...</td>\n",
       "      <td>...</td>\n",
       "      <td>...</td>\n",
       "      <td>...</td>\n",
       "      <td>...</td>\n",
       "      <td>...</td>\n",
       "    </tr>\n",
       "    <tr>\n",
       "      <th>1503</th>\n",
       "      <td>NaN</td>\n",
       "      <td>NaN</td>\n",
       "      <td>NaN</td>\n",
       "      <td>NaN</td>\n",
       "      <td>NaN</td>\n",
       "      <td>NaN</td>\n",
       "      <td>2375.0</td>\n",
       "      <td>2430.0</td>\n",
       "      <td>50.0</td>\n",
       "      <td>9.0</td>\n",
       "      <td>27.0</td>\n",
       "      <td>2102.0</td>\n",
       "      <td>2083.0</td>\n",
       "      <td>13.0</td>\n",
       "      <td>1.0</td>\n",
       "      <td>7.0</td>\n",
       "      <td>NaN</td>\n",
       "    </tr>\n",
       "    <tr>\n",
       "      <th>1504</th>\n",
       "      <td>NaN</td>\n",
       "      <td>2375.0</td>\n",
       "      <td>2555.0</td>\n",
       "      <td>7.0</td>\n",
       "      <td>2.0</td>\n",
       "      <td>6.0</td>\n",
       "      <td>2415.0</td>\n",
       "      <td>2675.0</td>\n",
       "      <td>3293.0</td>\n",
       "      <td>538.0</td>\n",
       "      <td>2521.0</td>\n",
       "      <td>2400.0</td>\n",
       "      <td>2594.0</td>\n",
       "      <td>496.0</td>\n",
       "      <td>47.0</td>\n",
       "      <td>402.0</td>\n",
       "      <td>44.0</td>\n",
       "    </tr>\n",
       "    <tr>\n",
       "      <th>1505</th>\n",
       "      <td>NaN</td>\n",
       "      <td>NaN</td>\n",
       "      <td>NaN</td>\n",
       "      <td>NaN</td>\n",
       "      <td>NaN</td>\n",
       "      <td>NaN</td>\n",
       "      <td>2961.0</td>\n",
       "      <td>2967.0</td>\n",
       "      <td>338.0</td>\n",
       "      <td>22.0</td>\n",
       "      <td>96.0</td>\n",
       "      <td>NaN</td>\n",
       "      <td>NaN</td>\n",
       "      <td>NaN</td>\n",
       "      <td>NaN</td>\n",
       "      <td>NaN</td>\n",
       "      <td>NaN</td>\n",
       "    </tr>\n",
       "    <tr>\n",
       "      <th>1506</th>\n",
       "      <td>NaN</td>\n",
       "      <td>NaN</td>\n",
       "      <td>NaN</td>\n",
       "      <td>NaN</td>\n",
       "      <td>NaN</td>\n",
       "      <td>NaN</td>\n",
       "      <td>2771.0</td>\n",
       "      <td>2763.0</td>\n",
       "      <td>138.0</td>\n",
       "      <td>3.0</td>\n",
       "      <td>11.0</td>\n",
       "      <td>NaN</td>\n",
       "      <td>NaN</td>\n",
       "      <td>NaN</td>\n",
       "      <td>NaN</td>\n",
       "      <td>NaN</td>\n",
       "      <td>NaN</td>\n",
       "    </tr>\n",
       "    <tr>\n",
       "      <th>1507</th>\n",
       "      <td>NaN</td>\n",
       "      <td>2346.0</td>\n",
       "      <td>2550.0</td>\n",
       "      <td>201.0</td>\n",
       "      <td>13.0</td>\n",
       "      <td>12.0</td>\n",
       "      <td>2613.0</td>\n",
       "      <td>2745.0</td>\n",
       "      <td>1147.0</td>\n",
       "      <td>150.0</td>\n",
       "      <td>503.0</td>\n",
       "      <td>1865.0</td>\n",
       "      <td>2645.0</td>\n",
       "      <td>110.0</td>\n",
       "      <td>15.0</td>\n",
       "      <td>39.0</td>\n",
       "      <td>63.0</td>\n",
       "    </tr>\n",
       "  </tbody>\n",
       "</table>\n",
       "<p>1508 rows × 17 columns</p>\n",
       "</div>"
      ],
      "text/plain": [
       "        fide  current_rapid_rating  highest_rapid_rating  rapid_win  \\\n",
       "0     3411.0                   NaN                   NaN        NaN   \n",
       "1     2950.0                2383.0                2672.0       12.0   \n",
       "2     2882.0                   NaN                   NaN        NaN   \n",
       "3     2882.0                2925.0                2977.0       43.0   \n",
       "4     2835.0                2794.0                3045.0      122.0   \n",
       "...      ...                   ...                   ...        ...   \n",
       "1503     NaN                   NaN                   NaN        NaN   \n",
       "1504     NaN                2375.0                2555.0        7.0   \n",
       "1505     NaN                   NaN                   NaN        NaN   \n",
       "1506     NaN                   NaN                   NaN        NaN   \n",
       "1507     NaN                2346.0                2550.0      201.0   \n",
       "\n",
       "      rapid_draw  rapid_loss  current_blitz_rating  highest_blitz_rating  \\\n",
       "0            NaN         NaN                   NaN                   NaN   \n",
       "1            5.0         6.0                2823.0                2914.0   \n",
       "2            NaN         NaN                   NaN                   NaN   \n",
       "3           23.0         8.0                3287.0                3322.0   \n",
       "4          103.0        46.0                3125.0                3136.0   \n",
       "...          ...         ...                   ...                   ...   \n",
       "1503         NaN         NaN                2375.0                2430.0   \n",
       "1504         2.0         6.0                2415.0                2675.0   \n",
       "1505         NaN         NaN                2961.0                2967.0   \n",
       "1506         NaN         NaN                2771.0                2763.0   \n",
       "1507        13.0        12.0                2613.0                2745.0   \n",
       "\n",
       "      blitz_win  blitz_draw  blitz_loss  current_bullet_rating  \\\n",
       "0           NaN         NaN         NaN                    NaN   \n",
       "1         976.0       280.0       847.0                 2661.0   \n",
       "2           NaN         NaN         NaN                    NaN   \n",
       "3        1402.0       292.0       334.0                 3249.0   \n",
       "4        1012.0       194.0       322.0                 3030.0   \n",
       "...         ...         ...         ...                    ...   \n",
       "1503       50.0         9.0        27.0                 2102.0   \n",
       "1504     3293.0       538.0      2521.0                 2400.0   \n",
       "1505      338.0        22.0        96.0                    NaN   \n",
       "1506      138.0         3.0        11.0                    NaN   \n",
       "1507     1147.0       150.0       503.0                 1865.0   \n",
       "\n",
       "      highest_bullet_rating  bullet_win  bullet_draw  bullet_loss  \\\n",
       "0                       NaN         NaN          NaN          NaN   \n",
       "1                    2750.0        32.0          8.0         47.0   \n",
       "2                       NaN         NaN          NaN          NaN   \n",
       "3                    3390.0       662.0         98.0        246.0   \n",
       "4                    3113.0       713.0         65.0        203.0   \n",
       "...                     ...         ...          ...          ...   \n",
       "1503                 2083.0        13.0          1.0          7.0   \n",
       "1504                 2594.0       496.0         47.0        402.0   \n",
       "1505                    NaN         NaN          NaN          NaN   \n",
       "1506                    NaN         NaN          NaN          NaN   \n",
       "1507                 2645.0       110.0         15.0         39.0   \n",
       "\n",
       "      highest_puzzle_rush_score  \n",
       "0                           NaN  \n",
       "1                          49.0  \n",
       "2                           NaN  \n",
       "3                           NaN  \n",
       "4                          64.0  \n",
       "...                         ...  \n",
       "1503                        NaN  \n",
       "1504                       44.0  \n",
       "1505                        NaN  \n",
       "1506                        NaN  \n",
       "1507                       63.0  \n",
       "\n",
       "[1508 rows x 17 columns]"
      ]
     },
     "execution_count": 41,
     "metadata": {},
     "output_type": "execute_result"
    }
   ],
   "source": [
    "# Фильтр по колонкам с пропущенными значениями\n",
    "data_num = df[num_cols]\n",
    "data_num"
   ]
  },
  {
   "cell_type": "code",
   "execution_count": 42,
   "metadata": {},
   "outputs": [
    {
     "data": {
      "image/png": "[encoded data removed]",
      "text/plain": [
       "<Figure size 640x480 with 1 Axes>"
      ]
     },
     "metadata": {},
     "output_type": "display_data"
    },
    {
     "data": {
      "image/png": "[encoded data removed]",
      "text/plain": [
       "<Figure size 640x480 with 1 Axes>"
      ]
     },
     "metadata": {},
     "output_type": "display_data"
    },
    {
     "data": {
      "image/png": "[encoded data removed]",
      "text/plain": [
       "<Figure size 640x480 with 1 Axes>"
      ]
     },
     "metadata": {},
     "output_type": "display_data"
    },
    {
     "data": {
      "image/png": "[encoded data removed]",
      "text/plain": [
       "<Figure size 640x480 with 1 Axes>"
      ]
     },
     "metadata": {},
     "output_type": "display_data"
    },
    {
     "data": {
      "image/png": "[encoded data removed]",
      "text/plain": [
       "<Figure size 640x480 with 1 Axes>"
      ]
     },
     "metadata": {},
     "output_type": "display_data"
    },
    {
     "data": {
      "image/png": "[encoded data removed]",
      "text/plain": [
       "<Figure size 640x480 with 1 Axes>"
      ]
     },
     "metadata": {},
     "output_type": "display_data"
    },
    {
     "data": {
      "image/png": "[encoded data removed]",
      "text/plain": [
       "<Figure size 640x480 with 1 Axes>"
      ]
     },
     "metadata": {},
     "output_type": "display_data"
    },
    {
     "data": {
      "image/png": "[encoded data removed]",
      "text/plain": [
       "<Figure size 640x480 with 1 Axes>"
      ]
     },
     "metadata": {},
     "output_type": "display_data"
    },
    {
     "data": {
      "image/png": "[encoded data removed]",
      "text/plain": [
       "<Figure size 640x480 with 1 Axes>"
      ]
     },
     "metadata": {},
     "output_type": "display_data"
    },
    {
     "data": {
      "image/png": "[encoded data removed]",
      "text/plain": [
       "<Figure size 640x480 with 1 Axes>"
      ]
     },
     "metadata": {},
     "output_type": "display_data"
    },
    {
     "data": {
      "image/png": "[encoded data removed]",
      "text/plain": [
       "<Figure size 640x480 with 1 Axes>"
      ]
     },
     "metadata": {},
     "output_type": "display_data"
    },
    {
     "data": {
      "image/png": "[encoded data removed]",
      "text/plain": [
       "<Figure size 640x480 with 1 Axes>"
      ]
     },
     "metadata": {},
     "output_type": "display_data"
    },
    {
     "data": {
      "image/png": "[encoded data removed]",
      "text/plain": [
       "<Figure size 640x480 with 1 Axes>"
      ]
     },
     "metadata": {},
     "output_type": "display_data"
    },
    {
     "data": {
      "image/png": "[encoded data removed]",
      "text/plain": [
       "<Figure size 640x480 with 1 Axes>"
      ]
     },
     "metadata": {},
     "output_type": "display_data"
    },
    {
     "data": {
      "image/png": "[encoded data removed]",
      "text/plain": [
       "<Figure size 640x480 with 1 Axes>"
      ]
     },
     "metadata": {},
     "output_type": "display_data"
    },
    {
     "data": {
      "image/png": "[encoded data removed]",
      "text/plain": [
       "<Figure size 640x480 with 1 Axes>"
      ]
     },
     "metadata": {},
     "output_type": "display_data"
    },
    {
     "data": {
      "image/png": "[encoded data removed]",
      "text/plain": [
       "<Figure size 640x480 with 1 Axes>"
      ]
     },
     "metadata": {},
     "output_type": "display_data"
    }
   ],
   "source": [
    "# Гистограмма по признакам\n",
    "for col in data_num:\n",
    "    plt.hist(df[col], 50)\n",
    "    plt.xlabel(col)\n",
    "    plt.show()"
   ]
  },
  {
   "cell_type": "code",
   "execution_count": 43,
   "metadata": {},
   "outputs": [
    {
     "data": {
      "text/html": [
       "<div>\n",
       "<style scoped>\n",
       "    .dataframe tbody tr th:only-of-type {\n",
       "        vertical-align: middle;\n",
       "    }\n",
       "\n",
       "    .dataframe tbody tr th {\n",
       "        vertical-align: top;\n",
       "    }\n",
       "\n",
       "    .dataframe thead th {\n",
       "        text-align: right;\n",
       "    }\n",
       "</style>\n",
       "<table border=\"1\" class=\"dataframe\">\n",
       "  <thead>\n",
       "    <tr style=\"text-align: right;\">\n",
       "      <th></th>\n",
       "      <th>fide</th>\n",
       "    </tr>\n",
       "  </thead>\n",
       "  <tbody>\n",
       "    <tr>\n",
       "      <th>0</th>\n",
       "      <td>3411.0</td>\n",
       "    </tr>\n",
       "    <tr>\n",
       "      <th>1</th>\n",
       "      <td>2950.0</td>\n",
       "    </tr>\n",
       "    <tr>\n",
       "      <th>2</th>\n",
       "      <td>2882.0</td>\n",
       "    </tr>\n",
       "    <tr>\n",
       "      <th>3</th>\n",
       "      <td>2882.0</td>\n",
       "    </tr>\n",
       "    <tr>\n",
       "      <th>4</th>\n",
       "      <td>2835.0</td>\n",
       "    </tr>\n",
       "  </tbody>\n",
       "</table>\n",
       "</div>"
      ],
      "text/plain": [
       "     fide\n",
       "0  3411.0\n",
       "1  2950.0\n",
       "2  2882.0\n",
       "3  2882.0\n",
       "4  2835.0"
      ]
     },
     "execution_count": 43,
     "metadata": {},
     "output_type": "execute_result"
    }
   ],
   "source": [
    "data_num_fide = data_num[['fide']]\n",
    "data_num_fide.head()"
   ]
  },
  {
   "cell_type": "code",
   "execution_count": 44,
   "metadata": {},
   "outputs": [],
   "source": [
    "from sklearn.impute import SimpleImputer\n",
    "from sklearn.impute import MissingIndicator"
   ]
  },
  {
   "cell_type": "code",
   "execution_count": 45,
   "metadata": {},
   "outputs": [
    {
     "data": {
      "text/plain": [
       "array([[False],\n",
       "       [False],\n",
       "       [False],\n",
       "       ...,\n",
       "       [ True],\n",
       "       [ True],\n",
       "       [ True]])"
      ]
     },
     "execution_count": 45,
     "metadata": {},
     "output_type": "execute_result"
    }
   ],
   "source": [
    "# Фильтр для проверки заполнения пустых значений\n",
    "indicator = MissingIndicator()\n",
    "mask_missing_values_only = indicator.fit_transform(data_num_fide)\n",
    "mask_missing_values_only"
   ]
  },
  {
   "cell_type": "code",
   "execution_count": 46,
   "metadata": {},
   "outputs": [],
   "source": [
    "strategies=['mean', 'median', 'most_frequent']"
   ]
  },
  {
   "cell_type": "code",
   "execution_count": 47,
   "metadata": {},
   "outputs": [],
   "source": [
    "def test_num_impute(strategy_param):\n",
    "    imp_num = SimpleImputer(strategy=strategy_param)\n",
    "    data_num_imp = imp_num.fit_transform(data_num_fide)\n",
    "    return data_num_imp[mask_missing_values_only]"
   ]
  },
  {
   "cell_type": "code",
   "execution_count": 48,
   "metadata": {},
   "outputs": [
    {
     "data": {
      "text/plain": [
       "('mean',\n",
       " array([2002.93756846, 2002.93756846, 2002.93756846, 2002.93756846,\n",
       "        2002.93756846, 2002.93756846, 2002.93756846, 2002.93756846,\n",
       "        2002.93756846, 2002.93756846, 2002.93756846, 2002.93756846,\n",
       "        2002.93756846, 2002.93756846, 2002.93756846, 2002.93756846,\n",
       "        2002.93756846, 2002.93756846, 2002.93756846, 2002.93756846,\n",
       "        2002.93756846, 2002.93756846, 2002.93756846, 2002.93756846,\n",
       "        2002.93756846, 2002.93756846, 2002.93756846, 2002.93756846,\n",
       "        2002.93756846, 2002.93756846, 2002.93756846, 2002.93756846,\n",
       "        2002.93756846, 2002.93756846, 2002.93756846, 2002.93756846,\n",
       "        2002.93756846, 2002.93756846, 2002.93756846, 2002.93756846,\n",
       "        2002.93756846, 2002.93756846, 2002.93756846, 2002.93756846,\n",
       "        2002.93756846, 2002.93756846, 2002.93756846, 2002.93756846,\n",
       "        2002.93756846, 2002.93756846, 2002.93756846, 2002.93756846,\n",
       "        2002.93756846, 2002.93756846, 2002.93756846, 2002.93756846,\n",
       "        2002.93756846, 2002.93756846, 2002.93756846, 2002.93756846,\n",
       "        2002.93756846, 2002.93756846, 2002.93756846, 2002.93756846,\n",
       "        2002.93756846, 2002.93756846, 2002.93756846, 2002.93756846,\n",
       "        2002.93756846, 2002.93756846, 2002.93756846, 2002.93756846,\n",
       "        2002.93756846, 2002.93756846, 2002.93756846, 2002.93756846,\n",
       "        2002.93756846, 2002.93756846, 2002.93756846, 2002.93756846,\n",
       "        2002.93756846, 2002.93756846, 2002.93756846, 2002.93756846,\n",
       "        2002.93756846, 2002.93756846, 2002.93756846, 2002.93756846,\n",
       "        2002.93756846, 2002.93756846, 2002.93756846, 2002.93756846,\n",
       "        2002.93756846, 2002.93756846, 2002.93756846, 2002.93756846,\n",
       "        2002.93756846, 2002.93756846, 2002.93756846, 2002.93756846,\n",
       "        2002.93756846, 2002.93756846, 2002.93756846, 2002.93756846,\n",
       "        2002.93756846, 2002.93756846, 2002.93756846, 2002.93756846,\n",
       "        2002.93756846, 2002.93756846, 2002.93756846, 2002.93756846,\n",
       "        2002.93756846, 2002.93756846, 2002.93756846, 2002.93756846,\n",
       "        2002.93756846, 2002.93756846, 2002.93756846, 2002.93756846,\n",
       "        2002.93756846, 2002.93756846, 2002.93756846, 2002.93756846,\n",
       "        2002.93756846, 2002.93756846, 2002.93756846, 2002.93756846,\n",
       "        2002.93756846, 2002.93756846, 2002.93756846, 2002.93756846,\n",
       "        2002.93756846, 2002.93756846, 2002.93756846, 2002.93756846,\n",
       "        2002.93756846, 2002.93756846, 2002.93756846, 2002.93756846,\n",
       "        2002.93756846, 2002.93756846, 2002.93756846, 2002.93756846,\n",
       "        2002.93756846, 2002.93756846, 2002.93756846, 2002.93756846,\n",
       "        2002.93756846, 2002.93756846, 2002.93756846, 2002.93756846,\n",
       "        2002.93756846, 2002.93756846, 2002.93756846, 2002.93756846,\n",
       "        2002.93756846, 2002.93756846, 2002.93756846, 2002.93756846,\n",
       "        2002.93756846, 2002.93756846, 2002.93756846, 2002.93756846,\n",
       "        2002.93756846, 2002.93756846, 2002.93756846, 2002.93756846,\n",
       "        2002.93756846, 2002.93756846, 2002.93756846, 2002.93756846,\n",
       "        2002.93756846, 2002.93756846, 2002.93756846, 2002.93756846,\n",
       "        2002.93756846, 2002.93756846, 2002.93756846, 2002.93756846,\n",
       "        2002.93756846, 2002.93756846, 2002.93756846, 2002.93756846,\n",
       "        2002.93756846, 2002.93756846, 2002.93756846, 2002.93756846,\n",
       "        2002.93756846, 2002.93756846, 2002.93756846, 2002.93756846,\n",
       "        2002.93756846, 2002.93756846, 2002.93756846, 2002.93756846,\n",
       "        2002.93756846, 2002.93756846, 2002.93756846, 2002.93756846,\n",
       "        2002.93756846, 2002.93756846, 2002.93756846, 2002.93756846,\n",
       "        2002.93756846, 2002.93756846, 2002.93756846, 2002.93756846,\n",
       "        2002.93756846, 2002.93756846, 2002.93756846, 2002.93756846,\n",
       "        2002.93756846, 2002.93756846, 2002.93756846, 2002.93756846,\n",
       "        2002.93756846, 2002.93756846, 2002.93756846, 2002.93756846,\n",
       "        2002.93756846, 2002.93756846, 2002.93756846, 2002.93756846,\n",
       "        2002.93756846, 2002.93756846, 2002.93756846, 2002.93756846,\n",
       "        2002.93756846, 2002.93756846, 2002.93756846, 2002.93756846,\n",
       "        2002.93756846, 2002.93756846, 2002.93756846, 2002.93756846,\n",
       "        2002.93756846, 2002.93756846, 2002.93756846, 2002.93756846,\n",
       "        2002.93756846, 2002.93756846, 2002.93756846, 2002.93756846,\n",
       "        2002.93756846, 2002.93756846, 2002.93756846, 2002.93756846,\n",
       "        2002.93756846, 2002.93756846, 2002.93756846, 2002.93756846,\n",
       "        2002.93756846, 2002.93756846, 2002.93756846, 2002.93756846,\n",
       "        2002.93756846, 2002.93756846, 2002.93756846, 2002.93756846,\n",
       "        2002.93756846, 2002.93756846, 2002.93756846, 2002.93756846,\n",
       "        2002.93756846, 2002.93756846, 2002.93756846, 2002.93756846,\n",
       "        2002.93756846, 2002.93756846, 2002.93756846, 2002.93756846,\n",
       "        2002.93756846, 2002.93756846, 2002.93756846, 2002.93756846,\n",
       "        2002.93756846, 2002.93756846, 2002.93756846, 2002.93756846,\n",
       "        2002.93756846, 2002.93756846, 2002.93756846, 2002.93756846,\n",
       "        2002.93756846, 2002.93756846, 2002.93756846, 2002.93756846,\n",
       "        2002.93756846, 2002.93756846, 2002.93756846, 2002.93756846,\n",
       "        2002.93756846, 2002.93756846, 2002.93756846, 2002.93756846,\n",
       "        2002.93756846, 2002.93756846, 2002.93756846, 2002.93756846,\n",
       "        2002.93756846, 2002.93756846, 2002.93756846, 2002.93756846,\n",
       "        2002.93756846, 2002.93756846, 2002.93756846, 2002.93756846,\n",
       "        2002.93756846, 2002.93756846, 2002.93756846, 2002.93756846,\n",
       "        2002.93756846, 2002.93756846, 2002.93756846, 2002.93756846,\n",
       "        2002.93756846, 2002.93756846, 2002.93756846, 2002.93756846,\n",
       "        2002.93756846, 2002.93756846, 2002.93756846, 2002.93756846,\n",
       "        2002.93756846, 2002.93756846, 2002.93756846, 2002.93756846,\n",
       "        2002.93756846, 2002.93756846, 2002.93756846, 2002.93756846,\n",
       "        2002.93756846, 2002.93756846, 2002.93756846, 2002.93756846,\n",
       "        2002.93756846, 2002.93756846, 2002.93756846, 2002.93756846,\n",
       "        2002.93756846, 2002.93756846, 2002.93756846, 2002.93756846,\n",
       "        2002.93756846, 2002.93756846, 2002.93756846, 2002.93756846,\n",
       "        2002.93756846, 2002.93756846, 2002.93756846, 2002.93756846,\n",
       "        2002.93756846, 2002.93756846, 2002.93756846, 2002.93756846,\n",
       "        2002.93756846, 2002.93756846, 2002.93756846, 2002.93756846,\n",
       "        2002.93756846, 2002.93756846, 2002.93756846, 2002.93756846,\n",
       "        2002.93756846, 2002.93756846, 2002.93756846, 2002.93756846,\n",
       "        2002.93756846, 2002.93756846, 2002.93756846, 2002.93756846,\n",
       "        2002.93756846, 2002.93756846, 2002.93756846, 2002.93756846,\n",
       "        2002.93756846, 2002.93756846, 2002.93756846, 2002.93756846,\n",
       "        2002.93756846, 2002.93756846, 2002.93756846, 2002.93756846,\n",
       "        2002.93756846, 2002.93756846, 2002.93756846, 2002.93756846,\n",
       "        2002.93756846, 2002.93756846, 2002.93756846, 2002.93756846,\n",
       "        2002.93756846, 2002.93756846, 2002.93756846, 2002.93756846,\n",
       "        2002.93756846, 2002.93756846, 2002.93756846, 2002.93756846,\n",
       "        2002.93756846, 2002.93756846, 2002.93756846, 2002.93756846,\n",
       "        2002.93756846, 2002.93756846, 2002.93756846, 2002.93756846,\n",
       "        2002.93756846, 2002.93756846, 2002.93756846, 2002.93756846,\n",
       "        2002.93756846, 2002.93756846, 2002.93756846, 2002.93756846,\n",
       "        2002.93756846, 2002.93756846, 2002.93756846, 2002.93756846,\n",
       "        2002.93756846, 2002.93756846, 2002.93756846, 2002.93756846,\n",
       "        2002.93756846, 2002.93756846, 2002.93756846, 2002.93756846,\n",
       "        2002.93756846, 2002.93756846, 2002.93756846, 2002.93756846,\n",
       "        2002.93756846, 2002.93756846, 2002.93756846, 2002.93756846,\n",
       "        2002.93756846, 2002.93756846, 2002.93756846, 2002.93756846,\n",
       "        2002.93756846, 2002.93756846, 2002.93756846, 2002.93756846,\n",
       "        2002.93756846, 2002.93756846, 2002.93756846, 2002.93756846,\n",
       "        2002.93756846, 2002.93756846, 2002.93756846, 2002.93756846,\n",
       "        2002.93756846, 2002.93756846, 2002.93756846, 2002.93756846,\n",
       "        2002.93756846, 2002.93756846, 2002.93756846, 2002.93756846,\n",
       "        2002.93756846, 2002.93756846, 2002.93756846, 2002.93756846,\n",
       "        2002.93756846, 2002.93756846, 2002.93756846, 2002.93756846,\n",
       "        2002.93756846, 2002.93756846, 2002.93756846, 2002.93756846,\n",
       "        2002.93756846, 2002.93756846, 2002.93756846, 2002.93756846,\n",
       "        2002.93756846, 2002.93756846, 2002.93756846, 2002.93756846,\n",
       "        2002.93756846, 2002.93756846, 2002.93756846, 2002.93756846,\n",
       "        2002.93756846, 2002.93756846, 2002.93756846, 2002.93756846,\n",
       "        2002.93756846, 2002.93756846, 2002.93756846, 2002.93756846,\n",
       "        2002.93756846, 2002.93756846, 2002.93756846, 2002.93756846,\n",
       "        2002.93756846, 2002.93756846, 2002.93756846, 2002.93756846,\n",
       "        2002.93756846, 2002.93756846, 2002.93756846, 2002.93756846,\n",
       "        2002.93756846, 2002.93756846, 2002.93756846, 2002.93756846,\n",
       "        2002.93756846, 2002.93756846, 2002.93756846, 2002.93756846,\n",
       "        2002.93756846, 2002.93756846, 2002.93756846, 2002.93756846,\n",
       "        2002.93756846, 2002.93756846, 2002.93756846, 2002.93756846,\n",
       "        2002.93756846, 2002.93756846, 2002.93756846, 2002.93756846,\n",
       "        2002.93756846, 2002.93756846, 2002.93756846, 2002.93756846,\n",
       "        2002.93756846, 2002.93756846, 2002.93756846, 2002.93756846,\n",
       "        2002.93756846, 2002.93756846, 2002.93756846, 2002.93756846,\n",
       "        2002.93756846, 2002.93756846, 2002.93756846, 2002.93756846,\n",
       "        2002.93756846, 2002.93756846, 2002.93756846, 2002.93756846,\n",
       "        2002.93756846, 2002.93756846, 2002.93756846, 2002.93756846,\n",
       "        2002.93756846, 2002.93756846, 2002.93756846, 2002.93756846,\n",
       "        2002.93756846, 2002.93756846, 2002.93756846, 2002.93756846,\n",
       "        2002.93756846, 2002.93756846, 2002.93756846, 2002.93756846,\n",
       "        2002.93756846, 2002.93756846, 2002.93756846, 2002.93756846,\n",
       "        2002.93756846, 2002.93756846, 2002.93756846, 2002.93756846,\n",
       "        2002.93756846, 2002.93756846, 2002.93756846, 2002.93756846,\n",
       "        2002.93756846, 2002.93756846, 2002.93756846, 2002.93756846,\n",
       "        2002.93756846, 2002.93756846, 2002.93756846, 2002.93756846,\n",
       "        2002.93756846, 2002.93756846, 2002.93756846, 2002.93756846,\n",
       "        2002.93756846, 2002.93756846, 2002.93756846, 2002.93756846,\n",
       "        2002.93756846, 2002.93756846, 2002.93756846, 2002.93756846,\n",
       "        2002.93756846, 2002.93756846, 2002.93756846]))"
      ]
     },
     "execution_count": 48,
     "metadata": {},
     "output_type": "execute_result"
    }
   ],
   "source": [
    "strategies[0], test_num_impute(strategies[0])"
   ]
  },
  {
   "cell_type": "code",
   "execution_count": 49,
   "metadata": {},
   "outputs": [
    {
     "data": {
      "text/plain": [
       "('median',\n",
       " array([2523., 2523., 2523., 2523., 2523., 2523., 2523., 2523., 2523.,\n",
       "        2523., 2523., 2523., 2523., 2523., 2523., 2523., 2523., 2523.,\n",
       "        2523., 2523., 2523., 2523., 2523., 2523., 2523., 2523., 2523.,\n",
       "        2523., 2523., 2523., 2523., 2523., 2523., 2523., 2523., 2523.,\n",
       "        2523., 2523., 2523., 2523., 2523., 2523., 2523., 2523., 2523.,\n",
       "        2523., 2523., 2523., 2523., 2523., 2523., 2523., 2523., 2523.,\n",
       "        2523., 2523., 2523., 2523., 2523., 2523., 2523., 2523., 2523.,\n",
       "        2523., 2523., 2523., 2523., 2523., 2523., 2523., 2523., 2523.,\n",
       "        2523., 2523., 2523., 2523., 2523., 2523., 2523., 2523., 2523.,\n",
       "        2523., 2523., 2523., 2523., 2523., 2523., 2523., 2523., 2523.,\n",
       "        2523., 2523., 2523., 2523., 2523., 2523., 2523., 2523., 2523.,\n",
       "        2523., 2523., 2523., 2523., 2523., 2523., 2523., 2523., 2523.,\n",
       "        2523., 2523., 2523., 2523., 2523., 2523., 2523., 2523., 2523.,\n",
       "        2523., 2523., 2523., 2523., 2523., 2523., 2523., 2523., 2523.,\n",
       "        2523., 2523., 2523., 2523., 2523., 2523., 2523., 2523., 2523.,\n",
       "        2523., 2523., 2523., 2523., 2523., 2523., 2523., 2523., 2523.,\n",
       "        2523., 2523., 2523., 2523., 2523., 2523., 2523., 2523., 2523.,\n",
       "        2523., 2523., 2523., 2523., 2523., 2523., 2523., 2523., 2523.,\n",
       "        2523., 2523., 2523., 2523., 2523., 2523., 2523., 2523., 2523.,\n",
       "        2523., 2523., 2523., 2523., 2523., 2523., 2523., 2523., 2523.,\n",
       "        2523., 2523., 2523., 2523., 2523., 2523., 2523., 2523., 2523.,\n",
       "        2523., 2523., 2523., 2523., 2523., 2523., 2523., 2523., 2523.,\n",
       "        2523., 2523., 2523., 2523., 2523., 2523., 2523., 2523., 2523.,\n",
       "        2523., 2523., 2523., 2523., 2523., 2523., 2523., 2523., 2523.,\n",
       "        2523., 2523., 2523., 2523., 2523., 2523., 2523., 2523., 2523.,\n",
       "        2523., 2523., 2523., 2523., 2523., 2523., 2523., 2523., 2523.,\n",
       "        2523., 2523., 2523., 2523., 2523., 2523., 2523., 2523., 2523.,\n",
       "        2523., 2523., 2523., 2523., 2523., 2523., 2523., 2523., 2523.,\n",
       "        2523., 2523., 2523., 2523., 2523., 2523., 2523., 2523., 2523.,\n",
       "        2523., 2523., 2523., 2523., 2523., 2523., 2523., 2523., 2523.,\n",
       "        2523., 2523., 2523., 2523., 2523., 2523., 2523., 2523., 2523.,\n",
       "        2523., 2523., 2523., 2523., 2523., 2523., 2523., 2523., 2523.,\n",
       "        2523., 2523., 2523., 2523., 2523., 2523., 2523., 2523., 2523.,\n",
       "        2523., 2523., 2523., 2523., 2523., 2523., 2523., 2523., 2523.,\n",
       "        2523., 2523., 2523., 2523., 2523., 2523., 2523., 2523., 2523.,\n",
       "        2523., 2523., 2523., 2523., 2523., 2523., 2523., 2523., 2523.,\n",
       "        2523., 2523., 2523., 2523., 2523., 2523., 2523., 2523., 2523.,\n",
       "        2523., 2523., 2523., 2523., 2523., 2523., 2523., 2523., 2523.,\n",
       "        2523., 2523., 2523., 2523., 2523., 2523., 2523., 2523., 2523.,\n",
       "        2523., 2523., 2523., 2523., 2523., 2523., 2523., 2523., 2523.,\n",
       "        2523., 2523., 2523., 2523., 2523., 2523., 2523., 2523., 2523.,\n",
       "        2523., 2523., 2523., 2523., 2523., 2523., 2523., 2523., 2523.,\n",
       "        2523., 2523., 2523., 2523., 2523., 2523., 2523., 2523., 2523.,\n",
       "        2523., 2523., 2523., 2523., 2523., 2523., 2523., 2523., 2523.,\n",
       "        2523., 2523., 2523., 2523., 2523., 2523., 2523., 2523., 2523.,\n",
       "        2523., 2523., 2523., 2523., 2523., 2523., 2523., 2523., 2523.,\n",
       "        2523., 2523., 2523., 2523., 2523., 2523., 2523., 2523., 2523.,\n",
       "        2523., 2523., 2523., 2523., 2523., 2523., 2523., 2523., 2523.,\n",
       "        2523., 2523., 2523., 2523., 2523., 2523., 2523., 2523., 2523.,\n",
       "        2523., 2523., 2523., 2523., 2523., 2523., 2523., 2523., 2523.,\n",
       "        2523., 2523., 2523., 2523., 2523., 2523., 2523., 2523., 2523.,\n",
       "        2523., 2523., 2523., 2523., 2523., 2523., 2523., 2523., 2523.,\n",
       "        2523., 2523., 2523., 2523., 2523., 2523., 2523., 2523., 2523.,\n",
       "        2523., 2523., 2523., 2523., 2523., 2523., 2523., 2523., 2523.,\n",
       "        2523., 2523., 2523., 2523., 2523., 2523., 2523., 2523., 2523.,\n",
       "        2523., 2523., 2523., 2523., 2523., 2523., 2523., 2523., 2523.,\n",
       "        2523., 2523., 2523., 2523., 2523., 2523., 2523., 2523., 2523.,\n",
       "        2523., 2523., 2523., 2523., 2523., 2523., 2523., 2523., 2523.,\n",
       "        2523., 2523., 2523., 2523., 2523., 2523., 2523., 2523., 2523.,\n",
       "        2523., 2523., 2523., 2523., 2523., 2523., 2523., 2523., 2523.,\n",
       "        2523., 2523., 2523., 2523., 2523., 2523., 2523., 2523., 2523.,\n",
       "        2523., 2523., 2523., 2523., 2523., 2523., 2523., 2523., 2523.,\n",
       "        2523., 2523., 2523., 2523., 2523., 2523., 2523., 2523., 2523.,\n",
       "        2523., 2523., 2523., 2523., 2523., 2523., 2523., 2523., 2523.,\n",
       "        2523., 2523., 2523., 2523., 2523., 2523., 2523., 2523., 2523.,\n",
       "        2523., 2523., 2523., 2523., 2523., 2523., 2523., 2523., 2523.,\n",
       "        2523.]))"
      ]
     },
     "execution_count": 49,
     "metadata": {},
     "output_type": "execute_result"
    }
   ],
   "source": [
    "strategies[1], test_num_impute(strategies[1])"
   ]
  },
  {
   "cell_type": "code",
   "execution_count": 50,
   "metadata": {},
   "outputs": [
    {
     "data": {
      "text/plain": [
       "('most_frequent',\n",
       " array([0., 0., 0., 0., 0., 0., 0., 0., 0., 0., 0., 0., 0., 0., 0., 0., 0.,\n",
       "        0., 0., 0., 0., 0., 0., 0., 0., 0., 0., 0., 0., 0., 0., 0., 0., 0.,\n",
       "        0., 0., 0., 0., 0., 0., 0., 0., 0., 0., 0., 0., 0., 0., 0., 0., 0.,\n",
       "        0., 0., 0., 0., 0., 0., 0., 0., 0., 0., 0., 0., 0., 0., 0., 0., 0.,\n",
       "        0., 0., 0., 0., 0., 0., 0., 0., 0., 0., 0., 0., 0., 0., 0., 0., 0.,\n",
       "        0., 0., 0., 0., 0., 0., 0., 0., 0., 0., 0., 0., 0., 0., 0., 0., 0.,\n",
       "        0., 0., 0., 0., 0., 0., 0., 0., 0., 0., 0., 0., 0., 0., 0., 0., 0.,\n",
       "        0., 0., 0., 0., 0., 0., 0., 0., 0., 0., 0., 0., 0., 0., 0., 0., 0.,\n",
       "        0., 0., 0., 0., 0., 0., 0., 0., 0., 0., 0., 0., 0., 0., 0., 0., 0.,\n",
       "        0., 0., 0., 0., 0., 0., 0., 0., 0., 0., 0., 0., 0., 0., 0., 0., 0.,\n",
       "        0., 0., 0., 0., 0., 0., 0., 0., 0., 0., 0., 0., 0., 0., 0., 0., 0.,\n",
       "        0., 0., 0., 0., 0., 0., 0., 0., 0., 0., 0., 0., 0., 0., 0., 0., 0.,\n",
       "        0., 0., 0., 0., 0., 0., 0., 0., 0., 0., 0., 0., 0., 0., 0., 0., 0.,\n",
       "        0., 0., 0., 0., 0., 0., 0., 0., 0., 0., 0., 0., 0., 0., 0., 0., 0.,\n",
       "        0., 0., 0., 0., 0., 0., 0., 0., 0., 0., 0., 0., 0., 0., 0., 0., 0.,\n",
       "        0., 0., 0., 0., 0., 0., 0., 0., 0., 0., 0., 0., 0., 0., 0., 0., 0.,\n",
       "        0., 0., 0., 0., 0., 0., 0., 0., 0., 0., 0., 0., 0., 0., 0., 0., 0.,\n",
       "        0., 0., 0., 0., 0., 0., 0., 0., 0., 0., 0., 0., 0., 0., 0., 0., 0.,\n",
       "        0., 0., 0., 0., 0., 0., 0., 0., 0., 0., 0., 0., 0., 0., 0., 0., 0.,\n",
       "        0., 0., 0., 0., 0., 0., 0., 0., 0., 0., 0., 0., 0., 0., 0., 0., 0.,\n",
       "        0., 0., 0., 0., 0., 0., 0., 0., 0., 0., 0., 0., 0., 0., 0., 0., 0.,\n",
       "        0., 0., 0., 0., 0., 0., 0., 0., 0., 0., 0., 0., 0., 0., 0., 0., 0.,\n",
       "        0., 0., 0., 0., 0., 0., 0., 0., 0., 0., 0., 0., 0., 0., 0., 0., 0.,\n",
       "        0., 0., 0., 0., 0., 0., 0., 0., 0., 0., 0., 0., 0., 0., 0., 0., 0.,\n",
       "        0., 0., 0., 0., 0., 0., 0., 0., 0., 0., 0., 0., 0., 0., 0., 0., 0.,\n",
       "        0., 0., 0., 0., 0., 0., 0., 0., 0., 0., 0., 0., 0., 0., 0., 0., 0.,\n",
       "        0., 0., 0., 0., 0., 0., 0., 0., 0., 0., 0., 0., 0., 0., 0., 0., 0.,\n",
       "        0., 0., 0., 0., 0., 0., 0., 0., 0., 0., 0., 0., 0., 0., 0., 0., 0.,\n",
       "        0., 0., 0., 0., 0., 0., 0., 0., 0., 0., 0., 0., 0., 0., 0., 0., 0.,\n",
       "        0., 0., 0., 0., 0., 0., 0., 0., 0., 0., 0., 0., 0., 0., 0., 0., 0.,\n",
       "        0., 0., 0., 0., 0., 0., 0., 0., 0., 0., 0., 0., 0., 0., 0., 0., 0.,\n",
       "        0., 0., 0., 0., 0., 0., 0., 0., 0., 0., 0., 0., 0., 0., 0., 0., 0.,\n",
       "        0., 0., 0., 0., 0., 0., 0., 0., 0., 0., 0., 0., 0., 0., 0., 0., 0.,\n",
       "        0., 0., 0., 0., 0., 0., 0., 0., 0., 0., 0., 0., 0., 0., 0., 0., 0.,\n",
       "        0., 0., 0., 0., 0., 0., 0., 0., 0., 0., 0., 0., 0., 0., 0., 0., 0.]))"
      ]
     },
     "execution_count": 50,
     "metadata": {},
     "output_type": "execute_result"
    }
   ],
   "source": [
    "strategies[2], test_num_impute(strategies[2])\n"
   ]
  },
  {
   "cell_type": "code",
   "execution_count": 51,
   "metadata": {},
   "outputs": [],
   "source": [
    "# Более сложная функция, которая позволяет задавать колонку и вид импьютации\n",
    "def test_num_impute_col(dataset, column, strategy_param):\n",
    "    temp_data = dataset[[column]]\n",
    "    \n",
    "    indicator = MissingIndicator()\n",
    "    mask_missing_values_only = indicator.fit_transform(temp_data)\n",
    "    \n",
    "    imp_num = SimpleImputer(strategy=strategy_param)\n",
    "    data_num_imp = imp_num.fit_transform(temp_data)\n",
    "    \n",
    "    filled_data = data_num_imp[mask_missing_values_only]\n",
    "    \n",
    "    return column, strategy_param, filled_data.size, filled_data[0], filled_data[filled_data.size-1]"
   ]
  },
  {
   "cell_type": "code",
   "execution_count": 52,
   "metadata": {},
   "outputs": [
    {
     "data": {
      "text/html": [
       "<div>\n",
       "<style scoped>\n",
       "    .dataframe tbody tr th:only-of-type {\n",
       "        vertical-align: middle;\n",
       "    }\n",
       "\n",
       "    .dataframe tbody tr th {\n",
       "        vertical-align: top;\n",
       "    }\n",
       "\n",
       "    .dataframe thead th {\n",
       "        text-align: right;\n",
       "    }\n",
       "</style>\n",
       "<table border=\"1\" class=\"dataframe\">\n",
       "  <thead>\n",
       "    <tr style=\"text-align: right;\">\n",
       "      <th></th>\n",
       "      <th>fide</th>\n",
       "    </tr>\n",
       "  </thead>\n",
       "  <tbody>\n",
       "    <tr>\n",
       "      <th>count</th>\n",
       "      <td>913.000000</td>\n",
       "    </tr>\n",
       "    <tr>\n",
       "      <th>mean</th>\n",
       "      <td>2002.937568</td>\n",
       "    </tr>\n",
       "    <tr>\n",
       "      <th>std</th>\n",
       "      <td>1061.740709</td>\n",
       "    </tr>\n",
       "    <tr>\n",
       "      <th>min</th>\n",
       "      <td>0.000000</td>\n",
       "    </tr>\n",
       "    <tr>\n",
       "      <th>25%</th>\n",
       "      <td>2405.000000</td>\n",
       "    </tr>\n",
       "    <tr>\n",
       "      <th>50%</th>\n",
       "      <td>2523.000000</td>\n",
       "    </tr>\n",
       "    <tr>\n",
       "      <th>75%</th>\n",
       "      <td>2600.000000</td>\n",
       "    </tr>\n",
       "    <tr>\n",
       "      <th>max</th>\n",
       "      <td>3411.000000</td>\n",
       "    </tr>\n",
       "  </tbody>\n",
       "</table>\n",
       "</div>"
      ],
      "text/plain": [
       "              fide\n",
       "count   913.000000\n",
       "mean   2002.937568\n",
       "std    1061.740709\n",
       "min       0.000000\n",
       "25%    2405.000000\n",
       "50%    2523.000000\n",
       "75%    2600.000000\n",
       "max    3411.000000"
      ]
     },
     "execution_count": 52,
     "metadata": {},
     "output_type": "execute_result"
    }
   ],
   "source": [
    "df[['fide']].describe()"
   ]
  },
  {
   "cell_type": "code",
   "execution_count": 53,
   "metadata": {},
   "outputs": [
    {
     "data": {
      "text/plain": [
       "('fide', 'mean', 595, 2002.9375684556408, 2002.9375684556408)"
      ]
     },
     "execution_count": 53,
     "metadata": {},
     "output_type": "execute_result"
    }
   ],
   "source": [
    "test_num_impute_col(df, 'fide', strategies[0])"
   ]
  },
  {
   "cell_type": "code",
   "execution_count": 54,
   "metadata": {},
   "outputs": [
    {
     "data": {
      "text/plain": [
       "('fide', 'median', 595, 2523.0, 2523.0)"
      ]
     },
     "execution_count": 54,
     "metadata": {},
     "output_type": "execute_result"
    }
   ],
   "source": [
    "test_num_impute_col(df, 'fide', strategies[1])"
   ]
  },
  {
   "cell_type": "code",
   "execution_count": 55,
   "metadata": {},
   "outputs": [
    {
     "data": {
      "text/plain": [
       "('fide', 'most_frequent', 595, 0.0, 0.0)"
      ]
     },
     "execution_count": 55,
     "metadata": {},
     "output_type": "execute_result"
    }
   ],
   "source": [
    "test_num_impute_col(df, 'fide', strategies[2])"
   ]
  },
  {
   "cell_type": "code",
   "execution_count": 56,
   "metadata": {},
   "outputs": [
    {
     "name": "stdout",
     "output_type": "stream",
     "text": [
      "Колонка name. Тип данных object. Количество пустых значений 267, 17.71%.\n",
      "Колонка highest_rapid_date. Тип данных object. Количество пустых значений 511, 33.89%.\n",
      "Колонка highest_blitz_date. Тип данных object. Количество пустых значений 126, 8.36%.\n",
      "Колонка highest_bullet_date. Тип данных object. Количество пустых значений 364, 24.14%.\n",
      "Колонка league. Тип данных object. Количество пустых значений 380, 25.2%.\n"
     ]
    }
   ],
   "source": [
    "# Выберем категориальные колонки с пропущенными значениями\n",
    "# Цикл по колонкам датасета\n",
    "cat_cols = []\n",
    "for col in df.columns:\n",
    "    # Количество пустых значений \n",
    "    temp_null_count = df[df[col].isnull()].shape[0]\n",
    "    dt = str(df[col].dtype)\n",
    "    if temp_null_count>0 and (dt=='object'):\n",
    "        cat_cols.append(col)\n",
    "        temp_perc = round((temp_null_count / total_count) * 100.0, 2)\n",
    "        print('Колонка {}. Тип данных {}. Количество пустых значений {}, {}%.'.format(col, dt, temp_null_count, temp_perc))"
   ]
  }
 ],
 "metadata": {
  "kernelspec": {
   "display_name": "Python 3",
   "language": "python",
   "name": "python3"
  },
  "language_info": {
   "codemirror_mode": {
    "name": "ipython",
    "version": 3
   },
   "file_extension": ".py",
   "mimetype": "text/x-python",
   "name": "python",
   "nbconvert_exporter": "python",
   "pygments_lexer": "ipython3",
   "version": "3.11.7"
  }
 },
 "nbformat": 4,
 "nbformat_minor": 2
}
